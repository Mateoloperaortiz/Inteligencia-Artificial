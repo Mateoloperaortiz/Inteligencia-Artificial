{
 "cells": [
  {
   "cell_type": "markdown",
   "id": "1deffaae",
   "metadata": {},
   "source": [
    "**Algoritmo de busqueda A***"
   ]
  },
  {
   "cell_type": "markdown",
   "id": "c7c7d6f1",
   "metadata": {},
   "source": [
    "*Mapa de Rumania (grafo con costos)*"
   ]
  },
  {
   "cell_type": "code",
   "execution_count": 5,
   "id": "22d15276",
   "metadata": {},
   "outputs": [],
   "source": [
    "romania_map = {\n",
    "    'Arad': {'Zerind': 75, 'Sibiu': 140, 'Timisoara': 118},\n",
    "    'Zerind': {'Arad': 75, 'Oradea': 71},\n",
    "    'Oradea': {'Zerind': 71, 'Sibiu': 151},\n",
    "    'Timisoara': {'Arad': 118, 'Lugoj': 111},\n",
    "    'Lugoj': {'Timisoara': 111, 'Mehadia': 70},\n",
    "    'Mehadia': {'Lugoj': 70, 'Drobeta': 75},\n",
    "    'Drobeta': {'Mehadia': 75, 'Craiova': 120},\n",
    "    'Craiova': {'Drobeta': 120, 'Rimnicu Vilcea': 146, 'Pitesti': 138},\n",
    "    'Sibiu': {'Arad': 140, 'Oradea': 151, 'Fagaras': 99, 'Rimnicu Vilcea': 80},\n",
    "    'Rimnicu Vilcea': {'Sibiu': 80, 'Craiova': 146, 'Pitesti': 97},\n",
    "    'Fagaras': {'Sibiu': 99, 'Bucharest': 211},\n",
    "    'Pitesti': {'Rimnicu Vilcea': 97, 'Craiova': 138, 'Bucharest': 101},\n",
    "    'Bucharest': {'Fagaras': 211, 'Pitesti': 101, 'Giurgiu': 90, 'Urziceni': 85},\n",
    "    'Giurgiu': {'Bucharest': 90},\n",
    "    'Urziceni': {'Bucharest': 85, 'Hirsova': 98, 'Vaslui': 142},\n",
    "    'Hirsova': {'Urziceni': 98, 'Eforie': 86},\n",
    "    'Eforie': {'Hirsova': 86},\n",
    "    'Vaslui': {'Urziceni': 142, 'Iasi': 92},\n",
    "    'Iasi': {'Vaslui': 92, 'Neamt': 87},\n",
    "    'Neamt': {'Iasi': 87}\n",
    "}\n"
   ]
  },
  {
   "cell_type": "markdown",
   "id": "2cb6f75f",
   "metadata": {},
   "source": [
    "*Heurística (distancia en línea recta a Bucharest)*"
   ]
  },
  {
   "cell_type": "code",
   "execution_count": 6,
   "id": "8c0f63b1",
   "metadata": {},
   "outputs": [],
   "source": [
    "heuristic = {\n",
    "    'Arad': 366,\n",
    "    'Bucharest': 0,\n",
    "    'Craiova': 160,\n",
    "    'Drobeta': 242,\n",
    "    'Eforie': 161,\n",
    "    'Fagaras': 176,\n",
    "    'Giurgiu': 77,\n",
    "    'Hirsova': 151,\n",
    "    'Iasi': 226,\n",
    "    'Lugoj': 244,\n",
    "    'Mehadia': 241,\n",
    "    'Neamt': 234,\n",
    "    'Oradea': 380,\n",
    "    'Pitesti': 100,\n",
    "    'Rimnicu Vilcea': 193,\n",
    "    'Sibiu': 253,\n",
    "    'Timisoara': 329,\n",
    "    'Urziceni': 80,\n",
    "    'Vaslui': 199,\n",
    "    'Zerind': 374\n",
    "}\n"
   ]
  },
  {
   "cell_type": "markdown",
   "id": "748203e1",
   "metadata": {},
   "source": [
    "*clase node*"
   ]
  },
  {
   "cell_type": "code",
   "execution_count": 7,
   "id": "8503622c",
   "metadata": {},
   "outputs": [],
   "source": [
    "class Node:\n",
    "    def __init__(self, state, parent=None, action=None, path_cost=0):\n",
    "        self.state = state\n",
    "        self.parent = parent\n",
    "        self.action = action\n",
    "        self.path_cost = path_cost\n",
    "\n",
    "    def __lt__(self, other):\n",
    "        return self.path_cost < other.path_cost\n"
   ]
  },
  {
   "cell_type": "markdown",
   "id": "9550815a",
   "metadata": {},
   "source": [
    "*Clase Problem*"
   ]
  },
  {
   "cell_type": "code",
   "execution_count": 8,
   "id": "df8f5168",
   "metadata": {},
   "outputs": [],
   "source": [
    "class Problem:\n",
    "    def __init__(self, initial, goal, graph):\n",
    "        self.initial = initial\n",
    "        self.goal = goal\n",
    "        self.graph = graph\n",
    "\n",
    "    def actions(self, state):\n",
    "        return list(self.graph[state].keys())\n",
    "\n",
    "    def result(self, state, action):\n",
    "        return action\n",
    "\n",
    "    def goal_test(self, state):\n",
    "        return state == self.goal\n",
    "\n",
    "    def path_cost(self, from_node, to_node):\n",
    "        return self.graph[from_node][to_node]\n"
   ]
  },
  {
   "cell_type": "markdown",
   "id": "5437c6d9",
   "metadata": {},
   "source": [
    "*Busqueda A**"
   ]
  },
  {
   "cell_type": "code",
   "execution_count": 9,
   "id": "8a9ee0e5",
   "metadata": {},
   "outputs": [],
   "source": [
    "import heapq\n",
    "\n",
    "def astar_search(problem, heuristic):\n",
    "    start_node = Node(problem.initial)\n",
    "    frontier = []\n",
    "    heapq.heappush(frontier, (heuristic[problem.initial], start_node))  # f(n) = g(n) + h(n)\n",
    "    explored = set()\n",
    "\n",
    "    while frontier:\n",
    "        f, current = heapq.heappop(frontier)\n",
    "\n",
    "        if problem.goal_test(current.state):\n",
    "            return current\n",
    "\n",
    "        explored.add(current.state)\n",
    "\n",
    "        for action in problem.actions(current.state):\n",
    "            child_state = problem.result(current.state, action)\n",
    "            step_cost = problem.path_cost(current.state, action)\n",
    "            total_cost = current.path_cost + step_cost\n",
    "\n",
    "            child_node = Node(child_state, current, action, total_cost)\n",
    "\n",
    "            if child_state not in explored:\n",
    "                f_child = total_cost + heuristic[child_state]\n",
    "                heapq.heappush(frontier, (f_child, child_node))\n",
    "\n",
    "    return None\n"
   ]
  },
  {
   "cell_type": "markdown",
   "id": "53417995",
   "metadata": {},
   "source": [
    "*Funcion para imprimir la soluciion* "
   ]
  },
  {
   "cell_type": "code",
   "execution_count": 10,
   "id": "22230bc3",
   "metadata": {},
   "outputs": [],
   "source": [
    "def print_solution(solution):\n",
    "    path = []\n",
    "    total_cost = solution.path_cost\n",
    "    while solution:\n",
    "        path.append(solution.state)\n",
    "        solution = solution.parent\n",
    "    path.reverse()\n",
    "    print(\"Ruta encontrada:\", \" → \".join(path))\n",
    "    print(\"Costo total:\", total_cost)\n"
   ]
  },
  {
   "cell_type": "markdown",
   "id": "cfd9484c",
   "metadata": {},
   "source": [
    "*Ejecucion de la busqueda A**"
   ]
  },
  {
   "cell_type": "code",
   "execution_count": 11,
   "id": "b76d1098",
   "metadata": {},
   "outputs": [
    {
     "name": "stdout",
     "output_type": "stream",
     "text": [
      "Ruta encontrada: Arad → Sibiu → Rimnicu Vilcea → Pitesti → Bucharest\n",
      "Costo total: 418\n"
     ]
    }
   ],
   "source": [
    "romania_problem = Problem('Arad', 'Bucharest', romania_map)\n",
    "solution = astar_search(romania_problem, heuristic)\n",
    "print_solution(solution)\n"
   ]
  }
 ],
 "metadata": {
  "kernelspec": {
   "display_name": "Python 3",
   "language": "python",
   "name": "python3"
  },
  "language_info": {
   "codemirror_mode": {
    "name": "ipython",
    "version": 3
   },
   "file_extension": ".py",
   "mimetype": "text/x-python",
   "name": "python",
   "nbconvert_exporter": "python",
   "pygments_lexer": "ipython3",
   "version": "3.12.6"
  }
 },
 "nbformat": 4,
 "nbformat_minor": 5
}
